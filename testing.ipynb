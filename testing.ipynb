{
 "cells": [
  {
   "cell_type": "code",
   "execution_count": 1,
   "metadata": {},
   "outputs": [],
   "source": [
    "from seismicio.Models.SuDataModel import SuFile\n",
    "from seismicio import readsu\n",
    "import pandas as pd\n",
    "import matplotlib.pyplot as plt\n",
    "import matplotlib as mpl\n",
    "mpl.use(\"TkAgg\")"
   ]
  },
  {
   "cell_type": "code",
   "execution_count": 2,
   "metadata": {},
   "outputs": [],
   "source": [
    "path = \"/storage1/Seismic/dados_teste/marmousi_4ms_CS.su\"\n",
    "sufile = readsu(path, \"ep\")"
   ]
  },
  {
   "cell_type": "code",
   "execution_count": 11,
   "metadata": {},
   "outputs": [
    {
     "data": {
      "text/plain": [
       "array([5425, 5450, 5475, 5500, 5525, 5550, 5575, 5600, 5625, 5650, 5675,\n",
       "       5700, 5725, 5750, 5775, 5800, 5825, 5850, 5875, 5900, 5925, 5950,\n",
       "       5975, 6000, 6025, 6050, 6075, 6100, 6125, 6150, 6175, 6200, 6225,\n",
       "       6250, 6275, 6300, 6325, 6350, 6375, 6400, 6425, 6450, 6475, 6500,\n",
       "       6525, 6550, 6575, 6600, 6625, 6650, 6675, 6700, 6725, 6750, 6775,\n",
       "       6800, 6825, 6850, 6875, 6900, 6925, 6950, 6975, 7000, 7025, 7050,\n",
       "       7075, 7100, 7125, 7150, 7175, 7200, 7225, 7250, 7275, 7300, 7325,\n",
       "       7350, 7375, 7400, 7425, 7450, 7475, 7500, 7525, 7550, 7575, 7600,\n",
       "       7625, 7650, 7675, 7700, 7725, 7750, 7775, 7800, 5450, 5475, 5500,\n",
       "       5525, 5550, 5575, 5600, 5625, 5650, 5675, 5700, 5725, 5750, 5775,\n",
       "       5800, 5825, 5850, 5875, 5900, 5925, 5950, 5975, 6000, 6025, 6050,\n",
       "       6075, 6100, 6125, 6150, 6175, 6200, 6225, 6250, 6275, 6300, 6325,\n",
       "       6350, 6375, 6400, 6425, 6450, 6475, 6500, 6525, 6550, 6575, 6600,\n",
       "       6625, 6650, 6675, 6700, 6725, 6750, 6775, 6800, 6825, 6850, 6875,\n",
       "       6900, 6925, 6950, 6975, 7000, 7025, 7050, 7075, 7100, 7125, 7150,\n",
       "       7175, 7200, 7225, 7250, 7275, 7300, 7325, 7350, 7375, 7400, 7425,\n",
       "       7450, 7475, 7500, 7525, 7550, 7575, 7600, 7625, 7650, 7675, 7700,\n",
       "       7725, 7750, 7775, 7800, 7825], dtype=int32)"
      ]
     },
     "execution_count": 11,
     "metadata": {},
     "output_type": "execute_result"
    }
   ],
   "source": [
    "sufile.igather[200:201].headers[\"gx\"]"
   ]
  },
  {
   "cell_type": "code",
   "execution_count": 14,
   "metadata": {},
   "outputs": [
    {
     "data": {
      "text/plain": [
       "(723, 96)"
      ]
     },
     "execution_count": 14,
     "metadata": {},
     "output_type": "execute_result"
    }
   ],
   "source": [
    "sufile.igather[0].data.shape"
   ]
  },
  {
   "cell_type": "code",
   "execution_count": 13,
   "metadata": {},
   "outputs": [
    {
     "data": {
      "text/html": [
       "<div>\n",
       "<style scoped>\n",
       "    .dataframe tbody tr th:only-of-type {\n",
       "        vertical-align: middle;\n",
       "    }\n",
       "\n",
       "    .dataframe tbody tr th {\n",
       "        vertical-align: top;\n",
       "    }\n",
       "\n",
       "    .dataframe thead th {\n",
       "        text-align: right;\n",
       "    }\n",
       "</style>\n",
       "<table border=\"1\" class=\"dataframe\">\n",
       "  <thead>\n",
       "    <tr style=\"text-align: right;\">\n",
       "      <th></th>\n",
       "      <th>start</th>\n",
       "      <th>stop</th>\n",
       "    </tr>\n",
       "  </thead>\n",
       "  <tbody>\n",
       "    <tr>\n",
       "      <th>1</th>\n",
       "      <td>0</td>\n",
       "      <td>96</td>\n",
       "    </tr>\n",
       "    <tr>\n",
       "      <th>2</th>\n",
       "      <td>96</td>\n",
       "      <td>192</td>\n",
       "    </tr>\n",
       "    <tr>\n",
       "      <th>3</th>\n",
       "      <td>192</td>\n",
       "      <td>288</td>\n",
       "    </tr>\n",
       "    <tr>\n",
       "      <th>4</th>\n",
       "      <td>288</td>\n",
       "      <td>384</td>\n",
       "    </tr>\n",
       "    <tr>\n",
       "      <th>5</th>\n",
       "      <td>384</td>\n",
       "      <td>480</td>\n",
       "    </tr>\n",
       "    <tr>\n",
       "      <th>...</th>\n",
       "      <td>...</td>\n",
       "      <td>...</td>\n",
       "    </tr>\n",
       "    <tr>\n",
       "      <th>236</th>\n",
       "      <td>22560</td>\n",
       "      <td>22656</td>\n",
       "    </tr>\n",
       "    <tr>\n",
       "      <th>237</th>\n",
       "      <td>22656</td>\n",
       "      <td>22752</td>\n",
       "    </tr>\n",
       "    <tr>\n",
       "      <th>238</th>\n",
       "      <td>22752</td>\n",
       "      <td>22848</td>\n",
       "    </tr>\n",
       "    <tr>\n",
       "      <th>239</th>\n",
       "      <td>22848</td>\n",
       "      <td>22944</td>\n",
       "    </tr>\n",
       "    <tr>\n",
       "      <th>240</th>\n",
       "      <td>22944</td>\n",
       "      <td>23040</td>\n",
       "    </tr>\n",
       "  </tbody>\n",
       "</table>\n",
       "<p>240 rows × 2 columns</p>\n",
       "</div>"
      ],
      "text/plain": [
       "     start   stop\n",
       "1        0     96\n",
       "2       96    192\n",
       "3      192    288\n",
       "4      288    384\n",
       "5      384    480\n",
       "..     ...    ...\n",
       "236  22560  22656\n",
       "237  22656  22752\n",
       "238  22752  22848\n",
       "239  22848  22944\n",
       "240  22944  23040\n",
       "\n",
       "[240 rows x 2 columns]"
      ]
     },
     "execution_count": 13,
     "metadata": {},
     "output_type": "execute_result"
    }
   ],
   "source": [
    "gather_indices = sufile.gather_indices_df\n",
    "gather_indices"
   ]
  },
  {
   "cell_type": "code",
   "execution_count": 26,
   "metadata": {},
   "outputs": [
    {
     "data": {
      "text/plain": [
       "23040"
      ]
     },
     "execution_count": 26,
     "metadata": {},
     "output_type": "execute_result"
    }
   ],
   "source": [
    "sufile.traces.shape[1]"
   ]
  },
  {
   "cell_type": "code",
   "execution_count": 7,
   "metadata": {},
   "outputs": [
    {
     "data": {
      "text/plain": [
       "pandas.core.indexing._iAtIndexer"
      ]
     },
     "execution_count": 7,
     "metadata": {},
     "output_type": "execute_result"
    }
   ],
   "source": [
    "type(gather_indices.iat)"
   ]
  },
  {
   "cell_type": "code",
   "execution_count": 5,
   "metadata": {},
   "outputs": [
    {
     "data": {
      "text/plain": [
       "pandas.core.indexing._LocIndexer"
      ]
     },
     "execution_count": 5,
     "metadata": {},
     "output_type": "execute_result"
    }
   ],
   "source": [
    "type(gather_indices.loc)"
   ]
  },
  {
   "cell_type": "code",
   "execution_count": 5,
   "metadata": {},
   "outputs": [
    {
     "name": "stdout",
     "output_type": "stream",
     "text": [
      "22944\n",
      "23040\n"
     ]
    }
   ],
   "source": [
    "gather_value = 240\n",
    "\n",
    "start_index = gather_indices[\"start\"].at[gather_value]\n",
    "stop_index = gather_indices[\"stop\"].at[gather_value]\n",
    "print(start_index)\n",
    "print(stop_index)"
   ]
  },
  {
   "cell_type": "code",
   "execution_count": 9,
   "metadata": {},
   "outputs": [],
   "source": [
    "start_index = gather_indices[\"start\"]"
   ]
  },
  {
   "cell_type": "code",
   "execution_count": 42,
   "metadata": {},
   "outputs": [
    {
     "data": {
      "text/plain": [
       "239"
      ]
     },
     "execution_count": 42,
     "metadata": {},
     "output_type": "execute_result"
    }
   ],
   "source": [
    "# https://pandas.pydata.org/docs/reference/api/pandas.Index.html\n",
    "type(gather_indices.index)\n",
    "gather_indices.index.get_loc(240)"
   ]
  },
  {
   "cell_type": "code",
   "execution_count": 41,
   "metadata": {},
   "outputs": [
    {
     "data": {
      "text/plain": [
       "239"
      ]
     },
     "execution_count": 41,
     "metadata": {},
     "output_type": "execute_result"
    }
   ],
   "source": [
    "gather_indices.index.get_loc(240)"
   ]
  },
  {
   "cell_type": "code",
   "execution_count": 32,
   "metadata": {},
   "outputs": [
    {
     "data": {
      "text/plain": [
       "start    22944\n",
       "end      23040\n",
       "Name: 240, dtype: int64"
      ]
     },
     "execution_count": 32,
     "metadata": {},
     "output_type": "execute_result"
    }
   ],
   "source": [
    "gather_indices.loc[240]"
   ]
  },
  {
   "cell_type": "code",
   "execution_count": 19,
   "metadata": {},
   "outputs": [
    {
     "name": "stdout",
     "output_type": "stream",
     "text": [
      "<class 'pandas.core.series.Series'>\n"
     ]
    },
    {
     "data": {
      "text/plain": [
       "21"
      ]
     },
     "execution_count": 19,
     "metadata": {},
     "output_type": "execute_result"
    }
   ],
   "source": [
    "# `Series.at` Access a single value by label\n",
    "print(type(gather_indices.iloc[20]))\n",
    "\n",
    "gather_indices.iloc[20].name"
   ]
  },
  {
   "cell_type": "code",
   "execution_count": 5,
   "metadata": {},
   "outputs": [
    {
     "data": {
      "text/plain": [
       "288"
      ]
     },
     "execution_count": 5,
     "metadata": {},
     "output_type": "execute_result"
    }
   ],
   "source": [
    "# Series.iat Access a single value by integer position\n",
    "gather_indices[\"start\"].iat[3]"
   ]
  },
  {
   "cell_type": "code",
   "execution_count": 3,
   "metadata": {},
   "outputs": [
    {
     "name": "stdout",
     "output_type": "stream",
     "text": [
      "key type <class 'int'>\n"
     ]
    },
    {
     "data": {
      "text/plain": [
       "array([5400, 5425, 5450, 5475, 5500, 5525, 5550, 5575, 5600, 5625, 5650,\n",
       "       5675, 5700, 5725, 5750, 5775, 5800, 5825, 5850, 5875, 5900, 5925,\n",
       "       5950, 5975, 6000, 6025, 6050, 6075, 6100, 6125, 6150, 6175, 6200,\n",
       "       6225, 6250, 6275, 6300, 6325, 6350, 6375, 6400, 6425, 6450, 6475,\n",
       "       6500, 6525, 6550, 6575, 6600, 6625, 6650, 6675, 6700, 6725, 6750,\n",
       "       6775, 6800, 6825, 6850, 6875, 6900, 6925, 6950, 6975, 7000, 7025,\n",
       "       7050, 7075, 7100, 7125, 7150, 7175, 7200, 7225, 7250, 7275, 7300,\n",
       "       7325, 7350, 7375, 7400, 7425, 7450, 7475, 7500, 7525, 7550, 7575,\n",
       "       7600, 7625, 7650, 7675, 7700, 7725, 7750, 7775], dtype=int32)"
      ]
     },
     "execution_count": 3,
     "metadata": {},
     "output_type": "execute_result"
    }
   ],
   "source": [
    "sufile.gather[200].headers[\"gx\"]"
   ]
  },
  {
   "cell_type": "code",
   "execution_count": 5,
   "metadata": {},
   "outputs": [],
   "source": [
    "fig, ax = plt.subplots()\n",
    "\n",
    "ax.plot(sufile.igather[200].headers[\"gx\"], 'k.')\n",
    "plt.show()"
   ]
  },
  {
   "cell_type": "code",
   "execution_count": 4,
   "metadata": {},
   "outputs": [
    {
     "data": {
      "text/plain": [
       "[22]"
      ]
     },
     "execution_count": 4,
     "metadata": {},
     "output_type": "execute_result"
    }
   ],
   "source": [
    "a = [11, 22, 33, 44]\n",
    "a[1:2]"
   ]
  },
  {
   "cell_type": "code",
   "execution_count": 4,
   "metadata": {},
   "outputs": [
    {
     "name": "stdout",
     "output_type": "stream",
     "text": [
      "key type <class 'slice'>\n"
     ]
    }
   ],
   "source": [
    "# importlib\n",
    "\n",
    "fig, ax = plt.subplots()\n",
    "\n",
    "# gather_data = sufile.traces_from_gather_value(200)\n",
    "\n",
    "data = sufile.gather[1:2].data\n",
    "\n",
    "# sufile.traces_from_gather_index(200)\n",
    "\n",
    "ax.imshow(data, aspect=\"auto\")\n",
    "\n",
    "# gather_offsets = sufile.headers_from_gather_value(200, \"offset\")\n",
    "# ax.plot(gather_offsets, 'k.')\n",
    "\n",
    "plt.show()"
   ]
  }
 ],
 "metadata": {
  "kernelspec": {
   "display_name": ".venv",
   "language": "python",
   "name": "python3"
  },
  "language_info": {
   "codemirror_mode": {
    "name": "ipython",
    "version": 3
   },
   "file_extension": ".py",
   "mimetype": "text/x-python",
   "name": "python",
   "nbconvert_exporter": "python",
   "pygments_lexer": "ipython3",
   "version": "3.10.12"
  }
 },
 "nbformat": 4,
 "nbformat_minor": 2
}
