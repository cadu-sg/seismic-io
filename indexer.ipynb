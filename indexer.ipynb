{
 "cells": [
  {
   "cell_type": "markdown",
   "metadata": {},
   "source": [
    "- https://docs.python.org/3/reference/datamodel.html#object.__getitem__\n",
    "- https://docs.python.org/3/library/functions.html#slice\n",
    "- https://stackoverflow.com/questions/2936863/implementing-slicing-in-getitem"
   ]
  },
  {
   "cell_type": "code",
   "execution_count": 23,
   "metadata": {},
   "outputs": [],
   "source": [
    "class iGatherIndexer(object):\n",
    "    def __getitem__(self, key):\n",
    "        if isinstance(key, slice):\n",
    "            print(\"is instance of slice\")\n",
    "            print(\"key.start\", key.start)\n",
    "            print(\"key.stop\", key.stop)\n",
    "            print(\"key.step\", key.step, end=\"\\n\\n\")\n",
    "\n",
    "        print(f\"key: {key}\")\n",
    "        print(f\"type(key): {type(key)}\")"
   ]
  },
  {
   "cell_type": "code",
   "execution_count": 24,
   "metadata": {},
   "outputs": [],
   "source": [
    "foo = iGatherIndexer()"
   ]
  },
  {
   "cell_type": "code",
   "execution_count": 25,
   "metadata": {},
   "outputs": [
    {
     "name": "stdout",
     "output_type": "stream",
     "text": [
      "is instance of slice\n",
      "key.start 0\n",
      "key.stop 12\n",
      "key.step None\n",
      "\n",
      "key: slice(0, 12, None)\n",
      "type(key): <class 'slice'>\n"
     ]
    }
   ],
   "source": [
    "foo[0:12]"
   ]
  }
 ],
 "metadata": {
  "kernelspec": {
   "display_name": ".venv",
   "language": "python",
   "name": "python3"
  },
  "language_info": {
   "codemirror_mode": {
    "name": "ipython",
    "version": 3
   },
   "file_extension": ".py",
   "mimetype": "text/x-python",
   "name": "python",
   "nbconvert_exporter": "python",
   "pygments_lexer": "ipython3",
   "version": "3.10.12"
  }
 },
 "nbformat": 4,
 "nbformat_minor": 2
}
